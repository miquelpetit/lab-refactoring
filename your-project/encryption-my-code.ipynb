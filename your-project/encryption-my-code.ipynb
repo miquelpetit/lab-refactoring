{
 "cells": [
  {
   "cell_type": "markdown",
   "metadata": {},
   "source": [
    "### Choosing whether to encrypt or decrypt"
   ]
  },
  {
   "cell_type": "code",
   "execution_count": 11,
   "metadata": {},
   "outputs": [
    {
     "name": "stdout",
     "output_type": "stream",
     "text": [
      "Type 0 to encrypt or 1 to decrypt: 1\n"
     ]
    },
    {
     "data": {
      "text/plain": [
       "'decrypt'"
      ]
     },
     "execution_count": 11,
     "metadata": {},
     "output_type": "execute_result"
    }
   ],
   "source": [
    "import sys\n",
    "\n",
    "choicestring = ''\n",
    "choice = input('Type 0 to encrypt or 1 to decrypt: ')\n",
    "\n",
    "def enc_or_dec(choice):\n",
    "    options = [0,1]\n",
    "    if choice.isnumeric():\n",
    "        choice = int(choice)\n",
    "        if choice not in options:\n",
    "            print(\"Your input is numeric but not '0' or '1'.\")\n",
    "            sys.exit()\n",
    "        else:\n",
    "            if choice == 0:\n",
    "                choicestring = 'encrypt'\n",
    "            else:\n",
    "                choicestring = 'decrypt'\n",
    "    else:\n",
    "        print('ERROR! Your input is not numeric.')\n",
    "        sys.exit()\n",
    "    return (choicestring)\n",
    "\n",
    "enc_or_dec(choice)"
   ]
  },
  {
   "cell_type": "markdown",
   "metadata": {},
   "source": [
    "### Inserting the message to encrypt/decrypt"
   ]
  },
  {
   "cell_type": "code",
   "execution_count": 12,
   "metadata": {},
   "outputs": [
    {
     "name": "stdout",
     "output_type": "stream",
     "text": [
      "You chose to decrypt.\n",
      "Insert the text you want to decrypt: h`zeA<\n"
     ]
    }
   ],
   "source": [
    "inserttext = f'Insert the text you want to {enc_or_dec(choice)}: '\n",
    "print(f'You chose to {enc_or_dec(choice)}.')\n",
    "text = input(inserttext)"
   ]
  },
  {
   "cell_type": "markdown",
   "metadata": {},
   "source": [
    "### Giving the output"
   ]
  },
  {
   "cell_type": "code",
   "execution_count": 13,
   "metadata": {},
   "outputs": [
    {
     "name": "stdout",
     "output_type": "stream",
     "text": [
      "Your decrypted text: Miquel\n"
     ]
    }
   ],
   "source": [
    "if choice == '0':\n",
    "    encrypt()\n",
    "else:\n",
    "    decrypt()\n",
    "    "
   ]
  },
  {
   "cell_type": "markdown",
   "metadata": {},
   "source": [
    "### Creating the encryption dictionaries"
   ]
  },
  {
   "cell_type": "code",
   "execution_count": 6,
   "metadata": {},
   "outputs": [],
   "source": [
    "import string\n",
    "import random\n",
    "\n",
    "ALLCHARACTERS = []\n",
    "ALLCHARACTERS += list(string.printable)\n",
    "\n",
    "\n",
    "\n",
    "RANDCHARACTERS = ['\\n', ':', 'W', '.', '`', '>', '<', 'E', '}', '5', 'i', 'n', 'u', 'X', 'a', '2', ';', '*', '!', 'K', 'U', 'S', '+', 'V', 'Q', 'p', '9', 'P', ',', '?', '7', 'o', '(', 'Z', '#', 'A', '\\\\', '^', 'I', '=', '$', '4', 'm', 'v', '-', '3', '1', '\\x0b', '8', 'H', 'O', '\"', 'r', 'T', 'F', 'b', '6', 'z', 'l', 'D', ']', '_', 'q', 'j', '%', \"'\", 'L', 'R', 'C', '[', 'e', '&', '~', 't', 'k', '@', 'x', 'h', '|', 'G', 's', 'M', 'g', '\\t', 'Y', '\\r', 'd', '/', ')', 'c', ' ', '\\x0c', 'w', 'y', 'N', 'B', '{', 'J', 'f', '0']\n",
    "RANDCHARACTERS1 = ['{', 'S', '9', '%', 'N', '^', '&', '\\x0c', '\\r', '7', '\\n', 'H', '>', '-', 'A', 'Z', 'y', 'b', '`', ' ', 'n', '<', 'J', '=', 'I', 'D', 'z', 'Y', '*', 'Q', 'e', '}', 'p', 'R', 'k', 'C', '\\\\', ')', '(', '@', 'G', '1', '#', 'l', 'F', 'L', 'K', '[', 'h', 'E', '$', ';', ']', '_', '2', '5', '8', 'V', '4', 'u', 'x', '6', '0', '!', 'r', 'i', 'a', 'w', \"'\", 'v', 'o', 'd', 'j', 'M', 't', '|', '/', 'm', 's', 'W', ',', 'U', 'X', ':', '\\x0b', 'P', '~', '\\t', 'f', 'q', 'O', 'c', '\"', '+', 'B', '3', '.', 'T', '?', 'g']\n",
    "RANDCHARACTERS2 = ['C', 'J', '8', 'u', '.', 'r', '{', 'f', ';', '\"', 'Q', 'b', 'm', 'T', '0', 't', '=', ' ', '\\t', '(', 'S', \"'\", '\\x0b', '\\\\', ':', '^', '>', '_', '6', '?', 'l', 'v', 'p', '[', 'c', 's', 'h', 'n', '!', 'L', '7', 'g', '@', 'D', 'G', '<', '\\n', 'k', 'w', 'o', ')', 'Z', 'A', 'O', '*', 'R', 'e', ',', '`', 'U', '1', '-', '~', 'j', 'V', '}', 'P', '|', '2', ']', 'M', 'i', '\\x0c', 'I', '9', 'x', '4', '5', 'z', 'd', 'a', 'Y', '%', 'F', 'y', '/', '3', 'E', 'H', '#', '+', 'q', 'K', '&', 'N', '$', 'B', '\\r', 'X', 'W']\n",
    "RANDCHARACTERS3 = [')', '!', 'x', '-', 'G', 'l', '>', ';', ',', '{', 'h', '[', 'i', '3', '(', 'r', 'q', '~', 'S', 'R', 'p', 'c', '#', 'n', '$', '=', 's', 'W', '@', '1', 'a', '.', 'I', '*', '2', 'P', 't', 'f', '\\x0c', '+', 'e', 'A', 'U', 'k', 'V', 'O', 'Q', 'D', '\\x0b', 'N', '<', '/', 'Y', '0', ']', 'K', 'b', 'J', '\\t', 'y', '5', '}', '\\n', ' ', 'Z', 'T', 'm', 'u', '6', '?', \"'\", 'C', '|', '7', '_', '`', '^', 'M', 'z', '\"', 'E', '%', 'F', '9', 'X', '\\r', '8', '&', 'v', 'L', 'o', 'j', ':', 'd', 'B', 'w', 'g', '4', 'H', '\\\\']\n",
    "\n",
    "DICTENCRYPTED = {}\n",
    "DICTENCRYPTED1 = {}\n",
    "DICTENCRYPTED2 = {} \n",
    "DICTENCRYPTED3 = {}\n",
    "\n",
    "for i in range(len(ALLCHARACTERS)):\n",
    "    DICTENCRYPTED[ALLCHARACTERS[i]] = RANDCHARACTERS[i]\n",
    "    DICTENCRYPTED1[ALLCHARACTERS[i]] = RANDCHARACTERS1[i]\n",
    "    DICTENCRYPTED2[ALLCHARACTERS[i]] = RANDCHARACTERS2[i]\n",
    "    DICTENCRYPTED3[ALLCHARACTERS[i]] = RANDCHARACTERS3[i]\n"
   ]
  },
  {
   "cell_type": "markdown",
   "metadata": {},
   "source": [
    "### Creating the decryption dictionaries"
   ]
  },
  {
   "cell_type": "code",
   "execution_count": 7,
   "metadata": {},
   "outputs": [],
   "source": [
    "DECRYPTEDDICT = {}\n",
    "DECRYPTEDDICT1 = {}\n",
    "DECRYPTEDDICT2 = {}\n",
    "DECRYPTEDDICT3 = {}\n",
    "\n",
    "for i in range(len(ALLCHARACTERS)):\n",
    "    DECRYPTEDDICT[RANDCHARACTERS[i]] = ALLCHARACTERS[i]\n",
    "    DECRYPTEDDICT1[RANDCHARACTERS1[i]] = ALLCHARACTERS[i]\n",
    "    DECRYPTEDDICT2[RANDCHARACTERS2[i]] = ALLCHARACTERS[i]\n",
    "    DECRYPTEDDICT3[RANDCHARACTERS3[i]] = ALLCHARACTERS[i]\n",
    "    "
   ]
  },
  {
   "cell_type": "markdown",
   "metadata": {},
   "source": [
    "### Setting the function to encrypt"
   ]
  },
  {
   "cell_type": "code",
   "execution_count": 8,
   "metadata": {},
   "outputs": [],
   "source": [
    "enctext = ''\n",
    "\n",
    "def encrypt():\n",
    "    lstenc = []\n",
    "    if len(text) % 5 == 0:\n",
    "        for i in range(len(text)):\n",
    "            lstenc.append(DICTENCRYPTED[text[i]])\n",
    "    else:\n",
    "        if len(text) % 3 == 0:\n",
    "            for i in range(len(text)):\n",
    "                lstenc.append(DICTENCRYPTED1[text[i]])\n",
    "        else:\n",
    "            if len(text) % 2 == 0:\n",
    "                for i in range(len(text)):\n",
    "                    lstenc.append(DICTENCRYPTED2[text[i]])\n",
    "            else:\n",
    "                for i in range(len(text)):\n",
    "                    lstenc.append(DICTENCRYPTED3[text[i]])\n",
    "    enctext = ''.join(lstenc)\n",
    "    return print('Your encrypted text:', enctext)\n"
   ]
  },
  {
   "cell_type": "markdown",
   "metadata": {},
   "source": [
    "### Setting the function to decrypt"
   ]
  },
  {
   "cell_type": "code",
   "execution_count": 9,
   "metadata": {},
   "outputs": [],
   "source": [
    "dec = ''\n",
    "\n",
    "def decrypt():\n",
    "    lstdec = []\n",
    "    if len(text) % 5 == 0:\n",
    "        for i in range(len(text)):\n",
    "            lstdec.append(DECRYPTEDDICT[text[i]])\n",
    "    else:\n",
    "        if len(text) % 3 == 0:\n",
    "            for i in range(len(text)):\n",
    "                lstdec.append(DECRYPTEDDICT1[text[i]])\n",
    "        else:\n",
    "            if len(text) % 2 == 0:\n",
    "                for i in range(len(text)):\n",
    "                    lstdec.append(DECRYPTEDDICT2[text[i]])\n",
    "            else:\n",
    "                for i in range(len(text)):\n",
    "                    lstdec.append(DECRYPTEDDICT3[text[i]])\n",
    "    dectext = ''.join(lstdec)\n",
    "    return print('Your decrypted text:', dectext)\n",
    "\n"
   ]
  },
  {
   "cell_type": "code",
   "execution_count": null,
   "metadata": {},
   "outputs": [],
   "source": []
  },
  {
   "cell_type": "code",
   "execution_count": null,
   "metadata": {},
   "outputs": [],
   "source": []
  }
 ],
 "metadata": {
  "kernelspec": {
   "display_name": "Python 3",
   "language": "python",
   "name": "python3"
  },
  "language_info": {
   "codemirror_mode": {
    "name": "ipython",
    "version": 3
   },
   "file_extension": ".py",
   "mimetype": "text/x-python",
   "name": "python",
   "nbconvert_exporter": "python",
   "pygments_lexer": "ipython3",
   "version": "3.7.3"
  }
 },
 "nbformat": 4,
 "nbformat_minor": 2
}
